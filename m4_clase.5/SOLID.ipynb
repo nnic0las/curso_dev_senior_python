{
 "cells": [
  {
   "cell_type": "code",
   "execution_count": 4,
   "id": "e6f21ebe",
   "metadata": {},
   "outputs": [
    {
     "name": "stdout",
     "output_type": "stream",
     "text": [
      "usuario juan registrado con exito\n"
     ]
    }
   ],
   "source": [
    "import bcrypt\n",
    "\n",
    "class Ecommerce:\n",
    "\n",
    "    def __init__(self):\n",
    "        self.users = {}\n",
    "\n",
    "    def register(self, username, password):\n",
    "        salt = bcrypt.gensalt()\n",
    "        hashed_password = bcrypt.hashpw(password.encode(), salt)\n",
    "        self.users[username] = hashed_password\n",
    "        print(f\"usuario {username} registrado con exito\")\n",
    "\n",
    "ecommerce = Ecommerce()\n",
    "ecommerce.register(\"juan\",\"123\")"
   ]
  },
  {
   "cell_type": "code",
   "execution_count": 5,
   "id": "d3f19924",
   "metadata": {},
   "outputs": [
    {
     "name": "stdout",
     "output_type": "stream",
     "text": [
      "usuario juan registrado con exito\n"
     ]
    }
   ],
   "source": [
    "#segun single la forma correcta de escribir este codigo es la siguiente \n",
    "#se separa el proceso \n",
    "class PasswordManager:\n",
    "    def encrypt_password(self, password: str) -> str:\n",
    "        salt = bcrypt.gensalt()\n",
    "        return bcrypt.hashpw(password.encode(), salt)\n",
    "    def verify_password():\n",
    "        pass\n",
    "\n",
    "\n",
    "class Ecommerce:\n",
    "\n",
    "    def __init__(self, password_manager: PasswordManager):   \n",
    "        self.users = {}\n",
    "        self.password_manager = password_manager\n",
    "\n",
    "    def register(self, username, password):\n",
    "        hashed_password = self.password_manager.encrypt_password(password)       \n",
    "        self.users[username] = hashed_password\n",
    "        print(f\"usuario {username} registrado con exito\")\n",
    "\n",
    "password_manager = PasswordManager()\n",
    "ecommerce = Ecommerce(password_manager)\n",
    "ecommerce.register(\"juan\",\"123\")"
   ]
  },
  {
   "cell_type": "code",
   "execution_count": 7,
   "id": "725609b1",
   "metadata": {},
   "outputs": [
    {
     "name": "stdout",
     "output_type": "stream",
     "text": [
      "Enviar email: Hola, somos Dev senior desde email \n",
      "Enviar SMS: Hola somo dev senior desde SMS\n",
      "Enviar WhatsApp: Hola somo dev senior desde WhatsApp\n"
     ]
    }
   ],
   "source": [
    "from abc import ABC, abstractmethod\n",
    "\n",
    "class INotificacion(ABC):\n",
    "    @abstractmethod\n",
    "    def enviar(self, mensaje: str):\n",
    "        pass\n",
    "\n",
    "class EmailServicie(INotificacion):\n",
    "    def enviar(self, mensaje: str):\n",
    "        print(f\"Enviar email: {mensaje}\")\n",
    "\n",
    "class SMSServicie(INotificacion):\n",
    "    def enviar(self, mensaje):\n",
    "        print(f\"Enviar SMS: {mensaje}\")\n",
    "\n",
    "class WhatsAppServicie(INotificacion):\n",
    "    def enviar(self, mensaje):\n",
    "        print(f\"Enviar WhatsApp: {mensaje}\")\n",
    "\n",
    "class Notificador:\n",
    "    def __init__(self, servicio: INotificacion):\n",
    "        self.servicio = servicio\n",
    "\n",
    "    def notificar(self, mensaje: str):\n",
    "        self.servicio.enviar(mensaje)\n",
    "\n",
    "email_notificador = Notificador(EmailServicie())\n",
    "sms_notificador = Notificador(SMSServicie())\n",
    "WhatsApp_notificador = Notificador(WhatsAppServicie())\n",
    "\n",
    "\n",
    "\n",
    "email_notificador.notificar(\"Hola, somos Dev senior desde email \")\n",
    "sms_notificador.notificar(\"Hola somo dev senior desde SMS\")\n",
    "WhatsApp_notificador.notificar(\"Hola somo dev senior desde WhatsApp\")\n",
    "\n"
   ]
  }
 ],
 "metadata": {
  "kernelspec": {
   "display_name": "Python 3",
   "language": "python",
   "name": "python3"
  },
  "language_info": {
   "codemirror_mode": {
    "name": "ipython",
    "version": 3
   },
   "file_extension": ".py",
   "mimetype": "text/x-python",
   "name": "python",
   "nbconvert_exporter": "python",
   "pygments_lexer": "ipython3",
   "version": "3.13.0"
  }
 },
 "nbformat": 4,
 "nbformat_minor": 5
}
