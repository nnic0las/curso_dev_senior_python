{
 "cells": [
  {
   "cell_type": "code",
   "execution_count": 2,
   "id": "e6f21ebe",
   "metadata": {},
   "outputs": [
    {
     "name": "stdout",
     "output_type": "stream",
     "text": [
      "usuario juan registrado con exito\n"
     ]
    }
   ],
   "source": [
    "import bcrypt\n",
    "\n",
    "class Ecommerce:\n",
    "\n",
    "    def __init__(self):\n",
    "        self.users = {}\n",
    "\n",
    "    def register(self, username, password):\n",
    "        salt = bcrypt.gensalt()\n",
    "        hashed_password = bcrypt.hashpw(password.encode(), salt)\n",
    "        self.users[username] = hashed_password\n",
    "        print(f\"usuario {username} registrado con exito\")\n",
    "\n",
    "ecommerce = Ecommerce()\n",
    "ecommerce.register(\"juan\",\"123\")"
   ]
  },
  {
   "cell_type": "code",
   "execution_count": null,
   "id": "d3f19924",
   "metadata": {},
   "outputs": [],
   "source": [
    "#segun single la forma correcta de escribir este codigo es la siguiente \n",
    "#se separa el proceso \n",
    "class PasswordManager:\n",
    "    def encrypt_password(self, password: str) -> str:\n",
    "        salt = bcrypt.gensalt()\n",
    "        return bcrypt.hashpw(password.encode(), salt)\n",
    "\n",
    "\n",
    "class Ecommerce:\n",
    "\n",
    "    def __init__(self):\n",
    "        self.users = {}\n",
    "\n",
    "    def register(self, username, password):\n",
    "        self.users[username] = hashed_password\n",
    "        print(f\"usuario {username} registrado con exito\")\n",
    "\n",
    "ecommerce = Ecommerce()\n",
    "ecommerce.register(\"juan\",\"123\")"
   ]
  }
 ],
 "metadata": {
  "kernelspec": {
   "display_name": "Python 3",
   "language": "python",
   "name": "python3"
  },
  "language_info": {
   "codemirror_mode": {
    "name": "ipython",
    "version": 3
   },
   "file_extension": ".py",
   "mimetype": "text/x-python",
   "name": "python",
   "nbconvert_exporter": "python",
   "pygments_lexer": "ipython3",
   "version": "3.13.0"
  }
 },
 "nbformat": 4,
 "nbformat_minor": 5
}
