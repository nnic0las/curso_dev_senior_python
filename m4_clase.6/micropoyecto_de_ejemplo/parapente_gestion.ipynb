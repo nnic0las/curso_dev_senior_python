{
 "cells": [
  {
   "cell_type": "code",
   "execution_count": 7,
   "id": "e9bd3dc1",
   "metadata": {},
   "outputs": [
    {
     "name": "stdout",
     "output_type": "stream",
     "text": [
      "Empleado: walter Estado: Disponible\n",
      "100\n",
      "Estado de walter cambiado a Volando\n",
      "Empleado: walter Estado: Volando\n"
     ]
    }
   ],
   "source": [
    "from abc import ABC, abstractmethod\n",
    "\n",
    "# estados del empleado \n",
    "class EstadoEmpleado(ABC):\n",
    "    @abstractmethod\n",
    "    def obtener_estado(self):\n",
    "        pass\n",
    "\n",
    "class Volando(EstadoEmpleado):\n",
    "    def obtener_estado(self):\n",
    "        return \"Volando\"\n",
    "\n",
    "class Descansando(EstadoEmpleado):\n",
    "    def obtener_estado(self):\n",
    "        return \"Descansando\"\n",
    "    \n",
    "class Disponible(EstadoEmpleado):\n",
    "    def obtener_estado(self):\n",
    "        return \"Disponible\"\n",
    "    \n",
    "class NoDisponible(EstadoEmpleado):\n",
    "    def obtener_estado(self):\n",
    "        return \"No Disponible\"\n",
    "\n",
    "class Rutas(ABC):\n",
    "    @abstractmethod\n",
    "    def obtener_costo(Self):\n",
    "        pass\n",
    "    \n",
    "class RutaEconomica(Rutas):\n",
    "    def obtener_costo(Self):\n",
    "        return 100\n",
    "    \n",
    "class RutaPremium(Rutas):\n",
    "    def obtener_costo(Self):\n",
    "        return 150\n",
    "    \n",
    "class RutaExtraPremium(Rutas):\n",
    "    def obtener_costo(Self):\n",
    "        return 200\n",
    "    \n",
    "class Empleado:\n",
    "    def __init__(self, nombre, estado: EstadoEmpleado):\n",
    "        self.nombre = nombre\n",
    "        self.estado = estado\n",
    "        self.historial = []\n",
    "\n",
    "    def cambiar_estado(self, nuevo_estado: EstadoEmpleado):\n",
    "        self.estado = nuevo_estado\n",
    "\n",
    "    def obtener_info(self):\n",
    "        return f\"Empleado: {self.nombre} Estado: {self.estado.obtener_estado()}\"\n",
    "    \n",
    "    def asignar_ruta(self, ruta: Rutas):\n",
    "        if isinstance(self.estado, Disponible):\n",
    "            self.estado = Volando()\n",
    "            self.historial.append(f\"Ruta asignada: {type(ruta).__name__}\")\n",
    "            print(f\"{self.nombre} ha sido asignado a la ruta {type(ruta).__name__}\")\n",
    "    \n",
    "class ControlRutas:\n",
    "    def __init__(self, rutas: list[Rutas]):\n",
    "        self.rutas = {type(ruta).__name__: ruta for ruta in rutas}\n",
    "\n",
    "    def obtener_precio_ruta(self, nombre_ruta: str):\n",
    "        ruta = self.rutas.get(nombre_ruta)\n",
    "\n",
    "        if ruta:\n",
    "            return ruta.obtener_costo()\n",
    "        else:\n",
    "            raise ValueError(\"Error ruta no existe\")\n",
    "    \n",
    "class ControlEmpleados:\n",
    "    def __init__(self):\n",
    "        self.empleados = []\n",
    "\n",
    "    def agregar_empleados(self, empleado: Empleado):\n",
    "        self.empleados.append(empleado)\n",
    "\n",
    "    def lista_empleados(self):\n",
    "        for empleado in self.empleados:\n",
    "            print(empleado.obtener_info())\n",
    "    \n",
    "    def cambiar_estado_empleado(self, nombre: str, nuevo_estado: EstadoEmpleado):\n",
    "        for empleado in self.empleados:\n",
    "            if empleado.nombre == nombre:\n",
    "                empleado.cambiar_estado(nuevo_estado)\n",
    "                print(f\"Estado de {nombre} cambiado a {nuevo_estado.obtener_estado()}\")\n",
    "                return\n",
    "        print(f\"No se encontro un empleado con ese nombre\")\n",
    "\n",
    "    def asignar_ruta_a_empleado(self, nombre: str, ruta: Rutas):\n",
    "        for empleado in self.empleados:\n",
    "            if empleado.nombre == nombre:\n",
    "                empleado.asignar_ruta(ruta_economica)\n",
    "                return\n",
    "        print(f\"No se encontro un empleado con ese nombre\")\n",
    "    \n",
    "empleado1 = Empleado(\"walter\", Disponible())\n",
    "\n",
    "control_empleados = ControlEmpleados()\n",
    "control_empleados.agregar_empleados(empleado1)\n",
    "\n",
    "ruta_economica = RutaEconomica()\n",
    "\n",
    "control_rutas = ControlRutas([ruta_economica])\n",
    "\n",
    "control_empleados.lista_empleados()\n",
    "\n",
    "control_rutas = ControlRutas([RutaEconomica()])\n",
    "\n",
    "print(control_rutas.obtener_precio_ruta(\"RutaEconomica\"))\n",
    "\n",
    "control_empleados.cambiar_estado_empleado(\"walter\", Volando())\n",
    "control_empleados.lista_empleados()\n",
    "\n"
   ]
  },
  {
   "cell_type": "code",
   "execution_count": 8,
   "id": "482393b9",
   "metadata": {},
   "outputs": [
    {
     "name": "stdout",
     "output_type": "stream",
     "text": [
      "Empleado: walter Estado: Volando\n",
      "Empleado: pedro Estado: Disponible\n"
     ]
    }
   ],
   "source": [
    "empleado2 = Empleado(\"pedro\", Disponible())\n",
    "control_empleados.agregar_empleados(empleado2)\n",
    "\n",
    "control_empleados.lista_empleados()"
   ]
  },
  {
   "cell_type": "code",
   "execution_count": 9,
   "id": "099d82a9",
   "metadata": {},
   "outputs": [
    {
     "name": "stdout",
     "output_type": "stream",
     "text": [
      "pedro ha sido asignado a la ruta RutaEconomica\n"
     ]
    }
   ],
   "source": [
    "control_empleados.asignar_ruta_a_empleado(\"pedro\", RutaEconomica())"
   ]
  }
 ],
 "metadata": {
  "kernelspec": {
   "display_name": "Python 3",
   "language": "python",
   "name": "python3"
  },
  "language_info": {
   "codemirror_mode": {
    "name": "ipython",
    "version": 3
   },
   "file_extension": ".py",
   "mimetype": "text/x-python",
   "name": "python",
   "nbconvert_exporter": "python",
   "pygments_lexer": "ipython3",
   "version": "3.13.0"
  }
 },
 "nbformat": 4,
 "nbformat_minor": 5
}
