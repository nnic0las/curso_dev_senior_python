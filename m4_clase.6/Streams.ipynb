{
 "cells": [
  {
   "cell_type": "code",
   "execution_count": null,
   "id": "b983a040",
   "metadata": {},
   "outputs": [],
   "source": [
    "map(funcion, iterable)"
   ]
  },
  {
   "cell_type": "code",
   "execution_count": 1,
   "id": "7c0ea62e",
   "metadata": {},
   "outputs": [
    {
     "name": "stdout",
     "output_type": "stream",
     "text": [
      "[1, 4, 9, 16, 25]\n"
     ]
    }
   ],
   "source": [
    "numeros = [1,2,3,4,5]\n",
    "\n",
    "cuadrado = list(map(lambda x:x **2, numeros))\n",
    "\n",
    "print((cuadrado))\n"
   ]
  },
  {
   "cell_type": "code",
   "execution_count": null,
   "id": "1c56a747",
   "metadata": {},
   "outputs": [],
   "source": [
    "filter(funcion, iterable)"
   ]
  },
  {
   "cell_type": "code",
   "execution_count": 2,
   "id": "11183829",
   "metadata": {},
   "outputs": [
    {
     "name": "stdout",
     "output_type": "stream",
     "text": [
      "[2, 4]\n"
     ]
    }
   ],
   "source": [
    "numeros = [1,2,3,4,5]\n",
    "\n",
    "pares = list(filter(lambda x:x % 2 == 0 , numeros))\n",
    "print(pares)"
   ]
  },
  {
   "cell_type": "code",
   "execution_count": null,
   "id": "97665100",
   "metadata": {},
   "outputs": [],
   "source": [
    "from functools import reduce\n",
    "reduce(funcion, iterable)\n"
   ]
  },
  {
   "cell_type": "markdown",
   "id": "21d489bf",
   "metadata": {},
   "source": [
    "#### ***ejemplo: sumar todos los elementos de una lista***\n"
   ]
  },
  {
   "cell_type": "code",
   "execution_count": 3,
   "id": "d793a15c",
   "metadata": {},
   "outputs": [
    {
     "name": "stdout",
     "output_type": "stream",
     "text": [
      "15\n"
     ]
    }
   ],
   "source": [
    "from functools import reduce\n",
    "\n",
    "numeros = [1,2,3,4,5]\n",
    "\n",
    "sumar_total = reduce(lambda x,y: x+y, numeros)\n",
    "\n",
    "print(sumar_total)"
   ]
  },
  {
   "cell_type": "markdown",
   "id": "705df983",
   "metadata": {},
   "source": [
    "#### ***ejemplo: encontrar el numero mas grande de una lista***"
   ]
  },
  {
   "cell_type": "code",
   "execution_count": 4,
   "id": "fd07d9e2",
   "metadata": {},
   "outputs": [
    {
     "name": "stdout",
     "output_type": "stream",
     "text": [
      "8\n"
     ]
    }
   ],
   "source": [
    "numeros = [3,8,2,4,2,6,1]\n",
    "maximo = reduce(lambda x,y: x if x > y else y, numeros)\n",
    "\n",
    "print(maximo)"
   ]
  }
 ],
 "metadata": {
  "kernelspec": {
   "display_name": "Python 3",
   "language": "python",
   "name": "python3"
  },
  "language_info": {
   "codemirror_mode": {
    "name": "ipython",
    "version": 3
   },
   "file_extension": ".py",
   "mimetype": "text/x-python",
   "name": "python",
   "nbconvert_exporter": "python",
   "pygments_lexer": "ipython3",
   "version": "3.13.0"
  }
 },
 "nbformat": 4,
 "nbformat_minor": 5
}
