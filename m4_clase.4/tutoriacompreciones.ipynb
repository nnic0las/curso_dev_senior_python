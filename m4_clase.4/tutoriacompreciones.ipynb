{
 "cells": [
  {
   "cell_type": "markdown",
   "id": "99ac0fcd",
   "metadata": {},
   "source": [
    "EJERCICIOS DE COMPRESIONES EN PYTHON\n",
    "\n",
    "1.LISTA DE CUADRADOS\n",
    "    usa una compresion de lista para generar una lista con los cuadrados de los primeros (n) numeros naturales "
   ]
  },
  {
   "cell_type": "code",
   "execution_count": 1,
   "id": "527192a1",
   "metadata": {},
   "outputs": [
    {
     "name": "stdout",
     "output_type": "stream",
     "text": [
      "[1, 4, 9, 16, 25, 36, 49, 64, 81, 100]\n"
     ]
    }
   ],
   "source": [
    "n = 10\n",
    "cuadrados = [x **2 for x in range(1, n+1)]\n",
    "print(cuadrados)"
   ]
  },
  {
   "cell_type": "markdown",
   "id": "ca63302e",
   "metadata": {},
   "source": [
    "2. FILTRAR NUMEROS PARES \n",
    "    crear una compresion de lista que filtre los numeros pares de una lista dada\n",
    "    "
   ]
  },
  {
   "cell_type": "code",
   "execution_count": 2,
   "id": "245898b0",
   "metadata": {},
   "outputs": [
    {
     "name": "stdout",
     "output_type": "stream",
     "text": [
      "[2, 4, 6, 8, 10, 12, 14, 16, 18, 20, 22, 24]\n"
     ]
    }
   ],
   "source": [
    "lista = list(range(1,25))\n",
    "numeros_pares = [x for x in lista if x % 2 == 0]\n",
    "print(numeros_pares)"
   ]
  },
  {
   "cell_type": "code",
   "execution_count": 3,
   "id": "da6f4fa0",
   "metadata": {},
   "outputs": [
    {
     "name": "stdout",
     "output_type": "stream",
     "text": [
      "[1, 3, 5, 7, 9, 11, 13, 15, 17, 19, 21, 23]\n"
     ]
    }
   ],
   "source": [
    "lista = list(range(1,25))\n",
    "numeros_impares = [x for x in lista if x % 2 == 1]\n",
    "print(numeros_impares)"
   ]
  },
  {
   "cell_type": "markdown",
   "id": "37e1e7e4",
   "metadata": {},
   "source": [
    "3.LONGITUD DE PALABRAS \n",
    "    dada una lista de palabras, usa una compresion de lista para obtener una lista con la longitud de cada palabra\n",
    "    "
   ]
  },
  {
   "cell_type": "code",
   "execution_count": 5,
   "id": "7d5a40bd",
   "metadata": {},
   "outputs": [
    {
     "name": "stdout",
     "output_type": "stream",
     "text": [
      "[6, 12, 6, 6, 7]\n"
     ]
    }
   ],
   "source": [
    "palabras = [\"python\", \"compreciones\", \"listas\", \"codigo\", \"ejemplo\"]\n",
    "longitud = [len(palabra) for palabra in palabras]\n",
    "print(longitud)"
   ]
  },
  {
   "cell_type": "markdown",
   "id": "c62e8230",
   "metadata": {},
   "source": [
    "4.COMVERTIR TEXTO A MATUSCULA\n",
    "    usa una comprecion de lista para tranformar todas las palabras de una lista en mayusculas."
   ]
  },
  {
   "cell_type": "code",
   "execution_count": 6,
   "id": "9ebe9173",
   "metadata": {},
   "outputs": [
    {
     "name": "stdout",
     "output_type": "stream",
     "text": [
      "['PYTHON', 'COMPRECIONES', 'LISTAS', 'CODIGO', 'EJEMPLO']\n"
     ]
    }
   ],
   "source": [
    "palabras_mayusculas = [palabra.upper() for palabra in palabras]\n",
    "print(palabras_mayusculas)"
   ]
  },
  {
   "cell_type": "markdown",
   "id": "60c5e3f9",
   "metadata": {},
   "source": [
    "5.DICCIONARIO DE CUADRADOS \n",
    "    crea una compresion de diccionario donde las claves sean numeros del 1 al (n) y los valores sean sus cuadrados."
   ]
  },
  {
   "cell_type": "code",
   "execution_count": 11,
   "id": "1495556c",
   "metadata": {},
   "outputs": [
    {
     "name": "stdout",
     "output_type": "stream",
     "text": [
      "{1: 1, 2: 4, 3: 9, 4: 16, 5: 25, 6: 36, 7: 49, 8: 64, 9: 81, 10: 100}\n"
     ]
    }
   ],
   "source": [
    "dict_cuadrados = {x:x **2 for x in range(1, n+1)}\n",
    "print(dict_cuadrados)"
   ]
  },
  {
   "cell_type": "markdown",
   "id": "0ed3da05",
   "metadata": {},
   "source": [
    "6.FILTRAR Y TRANSFORMAR \n",
    "    generar una lista con los cubos de los numeros impares de una lista dada usando una sola compresion.\n",
    "    "
   ]
  },
  {
   "cell_type": "code",
   "execution_count": 13,
   "id": "a2643254",
   "metadata": {},
   "outputs": [
    {
     "name": "stdout",
     "output_type": "stream",
     "text": [
      "[1, 3, 5, 7, 9, 11, 13, 15, 17, 19, 21, 23]\n"
     ]
    }
   ],
   "source": [
    "lista = list(range(1,25))\n",
    "numeros_impares = [x for x in lista if x % 2 != 0]\n",
    "print(numeros_impares)"
   ]
  },
  {
   "cell_type": "markdown",
   "id": "b12aa13f",
   "metadata": {},
   "source": [
    "7.INVERTITR CLAVES Y VALORES\n",
    "    dado un diccionario, usa una compresion de diccionario para intercambiar sus claves y valores."
   ]
  },
  {
   "cell_type": "code",
   "execution_count": 15,
   "id": "96e32771",
   "metadata": {},
   "outputs": [
    {
     "name": "stdout",
     "output_type": "stream",
     "text": [
      "{1: 1, 4: 2, 9: 3, 16: 4, 25: 5, 36: 6, 49: 7, 64: 8, 81: 9, 100: 10}\n"
     ]
    }
   ],
   "source": [
    "dict_invertido = {valor: clave for clave, valor in dict_cuadrados.items()}\n",
    "print(dict_invertido)"
   ]
  },
  {
   "cell_type": "markdown",
   "id": "92e5d97d",
   "metadata": {},
   "source": [
    "8.PALABRAS CON MAS DE 5 LETRAS \n",
    "    usa una compresion de lista para extraer de una lista de palabras solo aquellas que tengan mas de 5 letras \n",
    "    "
   ]
  },
  {
   "cell_type": "code",
   "execution_count": 18,
   "id": "4558676d",
   "metadata": {},
   "outputs": [
    {
     "name": "stdout",
     "output_type": "stream",
     "text": [
      "['compreciones']\n"
     ]
    }
   ],
   "source": [
    "palabras_largas = [palabra for palabra in palabras if len(palabra) >10]\n",
    "print(palabras_largas)"
   ]
  },
  {
   "cell_type": "markdown",
   "id": "f7bb8a80",
   "metadata": {},
   "source": [
    "9.UNIR LISTAS EN UN DICCIONARIO\n",
    "    dadas dos listas, una con nombres y otra con edades, crea un diccionario deonde los nombres sean claves y las edades valores.\n",
    "    "
   ]
  },
  {
   "cell_type": "code",
   "execution_count": 19,
   "id": "bfd0bb69",
   "metadata": {},
   "outputs": [
    {
     "name": "stdout",
     "output_type": "stream",
     "text": [
      "{'Ana': 25, 'Santiago': 26, 'Diego': 27, 'Juan': 28}\n"
     ]
    }
   ],
   "source": [
    "nombres = [\"Ana\", \"Santiago\", \"Diego\", \"Juan\"]\n",
    "edades = [25,26,27,28]\n",
    "dict_nombre_edades = {nombres[i]: edades[i] for i in range(len(nombres))}\n",
    "print(dict_nombre_edades)"
   ]
  }
 ],
 "metadata": {
  "kernelspec": {
   "display_name": "Python 3",
   "language": "python",
   "name": "python3"
  },
  "language_info": {
   "codemirror_mode": {
    "name": "ipython",
    "version": 3
   },
   "file_extension": ".py",
   "mimetype": "text/x-python",
   "name": "python",
   "nbconvert_exporter": "python",
   "pygments_lexer": "ipython3",
   "version": "3.13.0"
  }
 },
 "nbformat": 4,
 "nbformat_minor": 5
}
