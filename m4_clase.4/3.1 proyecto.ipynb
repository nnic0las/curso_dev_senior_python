{
 "cells": [
  {
   "cell_type": "code",
   "execution_count": null,
   "id": "1c066ba4",
   "metadata": {},
   "outputs": [
    {
     "name": "stdout",
     "output_type": "stream",
     "text": [
      "[{'usuario': 'Ana', 'puntaje': 5, 'comentario': 'Excelente producto, muy recomendado'}, {'usuario': 'Carlos', 'puntaje': 4, 'comentario': 'Buen producto, cumple con lo esperado'}, {'usuario': 'Lucía', 'puntaje': 5, 'comentario': 'Increíble calidad, lo volvería a comprar'}, {'usuario': 'Pedro', 'puntaje': 3, 'comentario': 'Está bien, pero podría mejorar'}, {'usuario': 'María', 'puntaje': 2, 'comentario': 'No cumplió mis expectativas'}, {'usuario': 'Jorge', 'puntaje': 5, 'comentario': 'Perfecto, llegó antes de lo esperado'}, {'usuario': 'Sofía', 'puntaje': 1, 'comentario': 'Mala experiencia, no lo recomiendo'}, {'usuario': 'Diego', 'puntaje': 4, 'comentario': 'Buena relación calidad-precio'}, {'usuario': 'Valeria', 'puntaje': 5, 'comentario': 'Superó mis expectativas, excelente servicio'}, {'usuario': 'Roberto', 'puntaje': 3, 'comentario': 'Regular, hay productos mejores'}]\n"
     ]
    }
   ],
   "source": [
    "import itertools\n",
    "import collections\n",
    "\n",
    "\n",
    "#simulacion de reseñas \n",
    "resennas = [\n",
    "    {\"usuario\": \"Ana\", \"puntaje\": 5, \"comentario\": \"Excelente producto, muy recomendado\"},\n",
    "    {\"usuario\": \"Carlos\", \"puntaje\": 4, \"comentario\": \"Buen producto, cumple con lo esperado\"},\n",
    "    {\"usuario\": \"Lucía\", \"puntaje\": 5, \"comentario\": \"Increíble calidad, lo volvería a comprar\"},\n",
    "    {\"usuario\": \"Pedro\", \"puntaje\": 3, \"comentario\": \"Está bien, pero podría mejorar\"},\n",
    "    {\"usuario\": \"María\", \"puntaje\": 2, \"comentario\": \"No cumplió mis expectativas\"},\n",
    "    {\"usuario\": \"Jorge\", \"puntaje\": 5, \"comentario\": \"Perfecto, llegó antes de lo esperado\"},\n",
    "    {\"usuario\": \"Sofía\", \"puntaje\": 1, \"comentario\": \"Mala experiencia, no lo recomiendo\"},\n",
    "    {\"usuario\": \"Diego\", \"puntaje\": 4, \"comentario\": \"Buena relación calidad-precio\"},\n",
    "    {\"usuario\": \"Valeria\", \"puntaje\": 5, \"comentario\": \"Superó mis expectativas, excelente servicio\"},\n",
    "    {\"usuario\": \"Roberto\", \"puntaje\": 3, \"comentario\": \"Regular, hay productos mejores\"}\n",
    "]\n",
    "print(resennas)"
   ]
  },
  {
   "cell_type": "code",
   "execution_count": 14,
   "id": "027d7184",
   "metadata": {},
   "outputs": [
    {
     "name": "stdout",
     "output_type": "stream",
     "text": [
      "palabras mas frecuentes\n",
      "[('excelente', 2), ('producto,', 2), ('esperado', 2), ('recomendado', 1), ('buen', 1)]\n"
     ]
    }
   ],
   "source": [
    "#contador de palabras clave en los comentarios, excluyendo palabras cortas\n",
    "palabras = []\n",
    "for r in resennas:\n",
    "    palabras.extend([p for p in r[\"comentario\"].lower().split() if len(p) > 3]) \n",
    "    #palabras.extend(r[\"comentario\"].lower().split())\n",
    "\n",
    "conteo_palabras = collections.Counter(palabras)\n",
    "print(\"palabras mas frecuentes\")\n",
    "print(conteo_palabras.most_common(5))"
   ]
  },
  {
   "cell_type": "code",
   "execution_count": 6,
   "id": "17939406",
   "metadata": {},
   "outputs": [
    {
     "name": "stdout",
     "output_type": "stream",
     "text": [
      "reseñas agrupadas\n",
      "puntaje: 5:['Excelente producto, muy recomendado', 'Increíble calidad, lo volvería a comprar', 'Perfecto, llegó antes de lo esperado', 'Superó mis expectativas, excelente servicio']\n",
      "puntaje: 4:['Buen producto, cumple con lo esperado', 'Buena relación calidad-precio']\n",
      "puntaje: 3:['Está bien, pero podría mejorar', 'Regular, hay productos mejores']\n",
      "puntaje: 2:['No cumplió mis expectativas']\n",
      "puntaje: 1:['Mala experiencia, no lo recomiendo']\n"
     ]
    }
   ],
   "source": [
    "# agrupacion de reseñas por puntaje\n",
    "grupos_resennas = collections.defaultdict(list)\n",
    "for r in resennas:\n",
    "    grupos_resennas[r[\"puntaje\"]].append(r[\"comentario\"])\n",
    "\n",
    "print(\"reseñas agrupadas\")\n",
    "for puntaje, comentarios in grupos_resennas.items():\n",
    "    print(f\"puntaje: {puntaje}:{comentarios}\")"
   ]
  },
  {
   "cell_type": "code",
   "execution_count": 7,
   "id": "ca42e6fc",
   "metadata": {},
   "outputs": [
    {
     "name": "stdout",
     "output_type": "stream",
     "text": [
      "combinacion de palabras clave con comentarios\n",
      "[('excelente', 'producto,'), ('excelente', 'recomendado'), ('excelente', 'buen'), ('excelente', 'cumple'), ('excelente', 'esperado'), ('excelente', 'increíble'), ('excelente', 'calidad,'), ('excelente', 'volvería'), ('excelente', 'comprar'), ('excelente', 'está'), ('excelente', 'bien,'), ('excelente', 'pero'), ('excelente', 'podría'), ('excelente', 'mejorar'), ('excelente', 'cumplió'), ('excelente', 'expectativas'), ('excelente', 'perfecto,'), ('excelente', 'llegó'), ('excelente', 'antes'), ('excelente', 'mala'), ('excelente', 'experiencia,'), ('excelente', 'recomiendo'), ('excelente', 'buena'), ('excelente', 'relación'), ('excelente', 'calidad-precio'), ('excelente', 'superó'), ('excelente', 'expectativas,'), ('excelente', 'servicio'), ('excelente', 'regular,'), ('excelente', 'productos'), ('excelente', 'mejores'), ('producto,', 'recomendado'), ('producto,', 'buen'), ('producto,', 'cumple'), ('producto,', 'esperado'), ('producto,', 'increíble'), ('producto,', 'calidad,'), ('producto,', 'volvería'), ('producto,', 'comprar'), ('producto,', 'está'), ('producto,', 'bien,'), ('producto,', 'pero'), ('producto,', 'podría'), ('producto,', 'mejorar'), ('producto,', 'cumplió'), ('producto,', 'expectativas'), ('producto,', 'perfecto,'), ('producto,', 'llegó'), ('producto,', 'antes'), ('producto,', 'mala'), ('producto,', 'experiencia,'), ('producto,', 'recomiendo'), ('producto,', 'buena'), ('producto,', 'relación'), ('producto,', 'calidad-precio'), ('producto,', 'superó'), ('producto,', 'expectativas,'), ('producto,', 'servicio'), ('producto,', 'regular,'), ('producto,', 'productos'), ('producto,', 'mejores'), ('recomendado', 'buen'), ('recomendado', 'cumple'), ('recomendado', 'esperado'), ('recomendado', 'increíble'), ('recomendado', 'calidad,'), ('recomendado', 'volvería'), ('recomendado', 'comprar'), ('recomendado', 'está'), ('recomendado', 'bien,'), ('recomendado', 'pero'), ('recomendado', 'podría'), ('recomendado', 'mejorar'), ('recomendado', 'cumplió'), ('recomendado', 'expectativas'), ('recomendado', 'perfecto,'), ('recomendado', 'llegó'), ('recomendado', 'antes'), ('recomendado', 'mala'), ('recomendado', 'experiencia,'), ('recomendado', 'recomiendo'), ('recomendado', 'buena'), ('recomendado', 'relación'), ('recomendado', 'calidad-precio'), ('recomendado', 'superó'), ('recomendado', 'expectativas,'), ('recomendado', 'servicio'), ('recomendado', 'regular,'), ('recomendado', 'productos'), ('recomendado', 'mejores'), ('buen', 'cumple'), ('buen', 'esperado'), ('buen', 'increíble'), ('buen', 'calidad,'), ('buen', 'volvería'), ('buen', 'comprar'), ('buen', 'está'), ('buen', 'bien,'), ('buen', 'pero'), ('buen', 'podría'), ('buen', 'mejorar'), ('buen', 'cumplió'), ('buen', 'expectativas'), ('buen', 'perfecto,'), ('buen', 'llegó'), ('buen', 'antes'), ('buen', 'mala'), ('buen', 'experiencia,'), ('buen', 'recomiendo'), ('buen', 'buena'), ('buen', 'relación'), ('buen', 'calidad-precio'), ('buen', 'superó'), ('buen', 'expectativas,'), ('buen', 'servicio'), ('buen', 'regular,'), ('buen', 'productos'), ('buen', 'mejores'), ('cumple', 'esperado'), ('cumple', 'increíble'), ('cumple', 'calidad,'), ('cumple', 'volvería'), ('cumple', 'comprar'), ('cumple', 'está'), ('cumple', 'bien,'), ('cumple', 'pero'), ('cumple', 'podría'), ('cumple', 'mejorar'), ('cumple', 'cumplió'), ('cumple', 'expectativas'), ('cumple', 'perfecto,'), ('cumple', 'llegó'), ('cumple', 'antes'), ('cumple', 'mala'), ('cumple', 'experiencia,'), ('cumple', 'recomiendo'), ('cumple', 'buena'), ('cumple', 'relación'), ('cumple', 'calidad-precio'), ('cumple', 'superó'), ('cumple', 'expectativas,'), ('cumple', 'servicio'), ('cumple', 'regular,'), ('cumple', 'productos'), ('cumple', 'mejores'), ('esperado', 'increíble'), ('esperado', 'calidad,'), ('esperado', 'volvería'), ('esperado', 'comprar'), ('esperado', 'está'), ('esperado', 'bien,'), ('esperado', 'pero'), ('esperado', 'podría'), ('esperado', 'mejorar'), ('esperado', 'cumplió'), ('esperado', 'expectativas'), ('esperado', 'perfecto,'), ('esperado', 'llegó'), ('esperado', 'antes'), ('esperado', 'mala'), ('esperado', 'experiencia,'), ('esperado', 'recomiendo'), ('esperado', 'buena'), ('esperado', 'relación'), ('esperado', 'calidad-precio'), ('esperado', 'superó'), ('esperado', 'expectativas,'), ('esperado', 'servicio'), ('esperado', 'regular,'), ('esperado', 'productos'), ('esperado', 'mejores'), ('increíble', 'calidad,'), ('increíble', 'volvería'), ('increíble', 'comprar'), ('increíble', 'está'), ('increíble', 'bien,'), ('increíble', 'pero'), ('increíble', 'podría'), ('increíble', 'mejorar'), ('increíble', 'cumplió'), ('increíble', 'expectativas'), ('increíble', 'perfecto,'), ('increíble', 'llegó'), ('increíble', 'antes'), ('increíble', 'mala'), ('increíble', 'experiencia,'), ('increíble', 'recomiendo'), ('increíble', 'buena'), ('increíble', 'relación'), ('increíble', 'calidad-precio'), ('increíble', 'superó'), ('increíble', 'expectativas,'), ('increíble', 'servicio'), ('increíble', 'regular,'), ('increíble', 'productos'), ('increíble', 'mejores'), ('calidad,', 'volvería'), ('calidad,', 'comprar'), ('calidad,', 'está'), ('calidad,', 'bien,'), ('calidad,', 'pero'), ('calidad,', 'podría'), ('calidad,', 'mejorar'), ('calidad,', 'cumplió'), ('calidad,', 'expectativas'), ('calidad,', 'perfecto,'), ('calidad,', 'llegó'), ('calidad,', 'antes'), ('calidad,', 'mala'), ('calidad,', 'experiencia,'), ('calidad,', 'recomiendo'), ('calidad,', 'buena'), ('calidad,', 'relación'), ('calidad,', 'calidad-precio'), ('calidad,', 'superó'), ('calidad,', 'expectativas,'), ('calidad,', 'servicio'), ('calidad,', 'regular,'), ('calidad,', 'productos'), ('calidad,', 'mejores'), ('volvería', 'comprar'), ('volvería', 'está'), ('volvería', 'bien,'), ('volvería', 'pero'), ('volvería', 'podría'), ('volvería', 'mejorar'), ('volvería', 'cumplió'), ('volvería', 'expectativas'), ('volvería', 'perfecto,'), ('volvería', 'llegó'), ('volvería', 'antes'), ('volvería', 'mala'), ('volvería', 'experiencia,'), ('volvería', 'recomiendo'), ('volvería', 'buena'), ('volvería', 'relación'), ('volvería', 'calidad-precio'), ('volvería', 'superó'), ('volvería', 'expectativas,'), ('volvería', 'servicio'), ('volvería', 'regular,'), ('volvería', 'productos'), ('volvería', 'mejores'), ('comprar', 'está'), ('comprar', 'bien,'), ('comprar', 'pero'), ('comprar', 'podría'), ('comprar', 'mejorar'), ('comprar', 'cumplió'), ('comprar', 'expectativas'), ('comprar', 'perfecto,'), ('comprar', 'llegó'), ('comprar', 'antes'), ('comprar', 'mala'), ('comprar', 'experiencia,'), ('comprar', 'recomiendo'), ('comprar', 'buena'), ('comprar', 'relación'), ('comprar', 'calidad-precio'), ('comprar', 'superó'), ('comprar', 'expectativas,'), ('comprar', 'servicio'), ('comprar', 'regular,'), ('comprar', 'productos'), ('comprar', 'mejores'), ('está', 'bien,'), ('está', 'pero'), ('está', 'podría'), ('está', 'mejorar'), ('está', 'cumplió'), ('está', 'expectativas'), ('está', 'perfecto,'), ('está', 'llegó'), ('está', 'antes'), ('está', 'mala'), ('está', 'experiencia,'), ('está', 'recomiendo'), ('está', 'buena'), ('está', 'relación'), ('está', 'calidad-precio'), ('está', 'superó'), ('está', 'expectativas,'), ('está', 'servicio'), ('está', 'regular,'), ('está', 'productos'), ('está', 'mejores'), ('bien,', 'pero'), ('bien,', 'podría'), ('bien,', 'mejorar'), ('bien,', 'cumplió'), ('bien,', 'expectativas'), ('bien,', 'perfecto,'), ('bien,', 'llegó'), ('bien,', 'antes'), ('bien,', 'mala'), ('bien,', 'experiencia,'), ('bien,', 'recomiendo'), ('bien,', 'buena'), ('bien,', 'relación'), ('bien,', 'calidad-precio'), ('bien,', 'superó'), ('bien,', 'expectativas,'), ('bien,', 'servicio'), ('bien,', 'regular,'), ('bien,', 'productos'), ('bien,', 'mejores'), ('pero', 'podría'), ('pero', 'mejorar'), ('pero', 'cumplió'), ('pero', 'expectativas'), ('pero', 'perfecto,'), ('pero', 'llegó'), ('pero', 'antes'), ('pero', 'mala'), ('pero', 'experiencia,'), ('pero', 'recomiendo'), ('pero', 'buena'), ('pero', 'relación'), ('pero', 'calidad-precio'), ('pero', 'superó'), ('pero', 'expectativas,'), ('pero', 'servicio'), ('pero', 'regular,'), ('pero', 'productos'), ('pero', 'mejores'), ('podría', 'mejorar'), ('podría', 'cumplió'), ('podría', 'expectativas'), ('podría', 'perfecto,'), ('podría', 'llegó'), ('podría', 'antes'), ('podría', 'mala'), ('podría', 'experiencia,'), ('podría', 'recomiendo'), ('podría', 'buena'), ('podría', 'relación'), ('podría', 'calidad-precio'), ('podría', 'superó'), ('podría', 'expectativas,'), ('podría', 'servicio'), ('podría', 'regular,'), ('podría', 'productos'), ('podría', 'mejores'), ('mejorar', 'cumplió'), ('mejorar', 'expectativas'), ('mejorar', 'perfecto,'), ('mejorar', 'llegó'), ('mejorar', 'antes'), ('mejorar', 'mala'), ('mejorar', 'experiencia,'), ('mejorar', 'recomiendo'), ('mejorar', 'buena'), ('mejorar', 'relación'), ('mejorar', 'calidad-precio'), ('mejorar', 'superó'), ('mejorar', 'expectativas,'), ('mejorar', 'servicio'), ('mejorar', 'regular,'), ('mejorar', 'productos'), ('mejorar', 'mejores'), ('cumplió', 'expectativas'), ('cumplió', 'perfecto,'), ('cumplió', 'llegó'), ('cumplió', 'antes'), ('cumplió', 'mala'), ('cumplió', 'experiencia,'), ('cumplió', 'recomiendo'), ('cumplió', 'buena'), ('cumplió', 'relación'), ('cumplió', 'calidad-precio'), ('cumplió', 'superó'), ('cumplió', 'expectativas,'), ('cumplió', 'servicio'), ('cumplió', 'regular,'), ('cumplió', 'productos'), ('cumplió', 'mejores'), ('expectativas', 'perfecto,'), ('expectativas', 'llegó'), ('expectativas', 'antes'), ('expectativas', 'mala'), ('expectativas', 'experiencia,'), ('expectativas', 'recomiendo'), ('expectativas', 'buena'), ('expectativas', 'relación'), ('expectativas', 'calidad-precio'), ('expectativas', 'superó'), ('expectativas', 'expectativas,'), ('expectativas', 'servicio'), ('expectativas', 'regular,'), ('expectativas', 'productos'), ('expectativas', 'mejores'), ('perfecto,', 'llegó'), ('perfecto,', 'antes'), ('perfecto,', 'mala'), ('perfecto,', 'experiencia,'), ('perfecto,', 'recomiendo'), ('perfecto,', 'buena'), ('perfecto,', 'relación'), ('perfecto,', 'calidad-precio'), ('perfecto,', 'superó'), ('perfecto,', 'expectativas,'), ('perfecto,', 'servicio'), ('perfecto,', 'regular,'), ('perfecto,', 'productos'), ('perfecto,', 'mejores'), ('llegó', 'antes'), ('llegó', 'mala'), ('llegó', 'experiencia,'), ('llegó', 'recomiendo'), ('llegó', 'buena'), ('llegó', 'relación'), ('llegó', 'calidad-precio'), ('llegó', 'superó'), ('llegó', 'expectativas,'), ('llegó', 'servicio'), ('llegó', 'regular,'), ('llegó', 'productos'), ('llegó', 'mejores'), ('antes', 'mala'), ('antes', 'experiencia,'), ('antes', 'recomiendo'), ('antes', 'buena'), ('antes', 'relación'), ('antes', 'calidad-precio'), ('antes', 'superó'), ('antes', 'expectativas,'), ('antes', 'servicio'), ('antes', 'regular,'), ('antes', 'productos'), ('antes', 'mejores'), ('mala', 'experiencia,'), ('mala', 'recomiendo'), ('mala', 'buena'), ('mala', 'relación'), ('mala', 'calidad-precio'), ('mala', 'superó'), ('mala', 'expectativas,'), ('mala', 'servicio'), ('mala', 'regular,'), ('mala', 'productos'), ('mala', 'mejores'), ('experiencia,', 'recomiendo'), ('experiencia,', 'buena'), ('experiencia,', 'relación'), ('experiencia,', 'calidad-precio'), ('experiencia,', 'superó'), ('experiencia,', 'expectativas,'), ('experiencia,', 'servicio'), ('experiencia,', 'regular,'), ('experiencia,', 'productos'), ('experiencia,', 'mejores'), ('recomiendo', 'buena'), ('recomiendo', 'relación'), ('recomiendo', 'calidad-precio'), ('recomiendo', 'superó'), ('recomiendo', 'expectativas,'), ('recomiendo', 'servicio'), ('recomiendo', 'regular,'), ('recomiendo', 'productos'), ('recomiendo', 'mejores'), ('buena', 'relación'), ('buena', 'calidad-precio'), ('buena', 'superó'), ('buena', 'expectativas,'), ('buena', 'servicio'), ('buena', 'regular,'), ('buena', 'productos'), ('buena', 'mejores'), ('relación', 'calidad-precio'), ('relación', 'superó'), ('relación', 'expectativas,'), ('relación', 'servicio'), ('relación', 'regular,'), ('relación', 'productos'), ('relación', 'mejores'), ('calidad-precio', 'superó'), ('calidad-precio', 'expectativas,'), ('calidad-precio', 'servicio'), ('calidad-precio', 'regular,'), ('calidad-precio', 'productos'), ('calidad-precio', 'mejores'), ('superó', 'expectativas,'), ('superó', 'servicio'), ('superó', 'regular,'), ('superó', 'productos'), ('superó', 'mejores'), ('expectativas,', 'servicio'), ('expectativas,', 'regular,'), ('expectativas,', 'productos'), ('expectativas,', 'mejores'), ('servicio', 'regular,'), ('servicio', 'productos'), ('servicio', 'mejores'), ('regular,', 'productos'), ('regular,', 'mejores'), ('productos', 'mejores')]\n"
     ]
    }
   ],
   "source": [
    "#combinacion de palabras clave \n",
    "print(\"combinacion de palabras clave con comentarios\")\n",
    "combinaciones = itertools.combinations(conteo_palabras.keys(),2)\n",
    "print(list(combinaciones))"
   ]
  },
  {
   "cell_type": "code",
   "execution_count": 10,
   "id": "faea664b",
   "metadata": {},
   "outputs": [
    {
     "name": "stdout",
     "output_type": "stream",
     "text": [
      "Respuestas automaticas\n",
      "Gracias por tu comentario  - Gracias por tu comentario, ¡nos alegra que hayas tenido una buena experiencia!\n",
      "Gracias por tu comentario  - Apreciamos tu retroalimentación, seguiremos trabajando para mejorar.\n",
      "Gracias por tu comentario  - ¡Muchas gracias por tu valoración! Tu opinión es muy importante para nosotros.\n",
      "Gracias por tu comentario  - Lamentamos que no haya cumplido tus expectativas. ¿Hay algo en lo que podamos ayudarte?\n",
      "Gracias por tu comentario  - Gracias por compartir tu experiencia. ¡Esperamos verte de nuevo pronto!\n",
      "Gracias por tu comentario, ¡nos alegra que hayas tenido una buena experiencia! - Gracias por tu comentario \n",
      "Gracias por tu comentario, ¡nos alegra que hayas tenido una buena experiencia! - Apreciamos tu retroalimentación, seguiremos trabajando para mejorar.\n",
      "Gracias por tu comentario, ¡nos alegra que hayas tenido una buena experiencia! - ¡Muchas gracias por tu valoración! Tu opinión es muy importante para nosotros.\n",
      "Gracias por tu comentario, ¡nos alegra que hayas tenido una buena experiencia! - Lamentamos que no haya cumplido tus expectativas. ¿Hay algo en lo que podamos ayudarte?\n",
      "Gracias por tu comentario, ¡nos alegra que hayas tenido una buena experiencia! - Gracias por compartir tu experiencia. ¡Esperamos verte de nuevo pronto!\n",
      "Apreciamos tu retroalimentación, seguiremos trabajando para mejorar. - Gracias por tu comentario \n",
      "Apreciamos tu retroalimentación, seguiremos trabajando para mejorar. - Gracias por tu comentario, ¡nos alegra que hayas tenido una buena experiencia!\n",
      "Apreciamos tu retroalimentación, seguiremos trabajando para mejorar. - ¡Muchas gracias por tu valoración! Tu opinión es muy importante para nosotros.\n",
      "Apreciamos tu retroalimentación, seguiremos trabajando para mejorar. - Lamentamos que no haya cumplido tus expectativas. ¿Hay algo en lo que podamos ayudarte?\n",
      "Apreciamos tu retroalimentación, seguiremos trabajando para mejorar. - Gracias por compartir tu experiencia. ¡Esperamos verte de nuevo pronto!\n",
      "¡Muchas gracias por tu valoración! Tu opinión es muy importante para nosotros. - Gracias por tu comentario \n",
      "¡Muchas gracias por tu valoración! Tu opinión es muy importante para nosotros. - Gracias por tu comentario, ¡nos alegra que hayas tenido una buena experiencia!\n",
      "¡Muchas gracias por tu valoración! Tu opinión es muy importante para nosotros. - Apreciamos tu retroalimentación, seguiremos trabajando para mejorar.\n",
      "¡Muchas gracias por tu valoración! Tu opinión es muy importante para nosotros. - Lamentamos que no haya cumplido tus expectativas. ¿Hay algo en lo que podamos ayudarte?\n",
      "¡Muchas gracias por tu valoración! Tu opinión es muy importante para nosotros. - Gracias por compartir tu experiencia. ¡Esperamos verte de nuevo pronto!\n",
      "Lamentamos que no haya cumplido tus expectativas. ¿Hay algo en lo que podamos ayudarte? - Gracias por tu comentario \n",
      "Lamentamos que no haya cumplido tus expectativas. ¿Hay algo en lo que podamos ayudarte? - Gracias por tu comentario, ¡nos alegra que hayas tenido una buena experiencia!\n",
      "Lamentamos que no haya cumplido tus expectativas. ¿Hay algo en lo que podamos ayudarte? - Apreciamos tu retroalimentación, seguiremos trabajando para mejorar.\n",
      "Lamentamos que no haya cumplido tus expectativas. ¿Hay algo en lo que podamos ayudarte? - ¡Muchas gracias por tu valoración! Tu opinión es muy importante para nosotros.\n",
      "Lamentamos que no haya cumplido tus expectativas. ¿Hay algo en lo que podamos ayudarte? - Gracias por compartir tu experiencia. ¡Esperamos verte de nuevo pronto!\n",
      "Gracias por compartir tu experiencia. ¡Esperamos verte de nuevo pronto! - Gracias por tu comentario \n",
      "Gracias por compartir tu experiencia. ¡Esperamos verte de nuevo pronto! - Gracias por tu comentario, ¡nos alegra que hayas tenido una buena experiencia!\n",
      "Gracias por compartir tu experiencia. ¡Esperamos verte de nuevo pronto! - Apreciamos tu retroalimentación, seguiremos trabajando para mejorar.\n",
      "Gracias por compartir tu experiencia. ¡Esperamos verte de nuevo pronto! - ¡Muchas gracias por tu valoración! Tu opinión es muy importante para nosotros.\n",
      "Gracias por compartir tu experiencia. ¡Esperamos verte de nuevo pronto! - Lamentamos que no haya cumplido tus expectativas. ¿Hay algo en lo que podamos ayudarte?\n"
     ]
    }
   ],
   "source": [
    "#generar una respuesta automatica\n",
    "\n",
    "respuestas = [\"Gracias por tu comentario \", \"Gracias por tu comentario, ¡nos alegra que hayas tenido una buena experiencia!\",\n",
    "    \"Apreciamos tu retroalimentación, seguiremos trabajando para mejorar.\",\n",
    "    \"¡Muchas gracias por tu valoración! Tu opinión es muy importante para nosotros.\",\n",
    "    \"Lamentamos que no haya cumplido tus expectativas. ¿Hay algo en lo que podamos ayudarte?\",\n",
    "    \"Gracias por compartir tu experiencia. ¡Esperamos verte de nuevo pronto!\" ]\n",
    "\n",
    "permutaciones_respuesta = itertools.permutations(respuestas,2)\n",
    "print(\"Respuestas automaticas\")\n",
    "for respuesta in permutaciones_respuesta:\n",
    "    print(\" - \".join(respuesta))"
   ]
  },
  {
   "cell_type": "code",
   "execution_count": null,
   "id": "0f00da6a",
   "metadata": {},
   "outputs": [],
   "source": [
    "\n"
   ]
  }
 ],
 "metadata": {
  "kernelspec": {
   "display_name": "Python 3",
   "language": "python",
   "name": "python3"
  },
  "language_info": {
   "codemirror_mode": {
    "name": "ipython",
    "version": 3
   },
   "file_extension": ".py",
   "mimetype": "text/x-python",
   "name": "python",
   "nbconvert_exporter": "python",
   "pygments_lexer": "ipython3",
   "version": "3.13.0"
  }
 },
 "nbformat": 4,
 "nbformat_minor": 5
}
