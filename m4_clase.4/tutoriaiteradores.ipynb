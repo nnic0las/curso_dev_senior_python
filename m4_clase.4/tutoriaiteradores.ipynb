{
 "cells": [
  {
   "cell_type": "markdown",
   "id": "aecdbbc9",
   "metadata": {},
   "source": [
    "EJERCICIO DE ITERADORES EN PYTHON\n"
   ]
  },
  {
   "cell_type": "markdown",
   "id": "6ff8f6a0",
   "metadata": {},
   "source": [
    "1.ITERADOR PERSONALIZADO\n",
    "    crea una clase que implemente un iterador para generar los primeros (n) numeros pares\n",
    "    "
   ]
  },
  {
   "cell_type": "code",
   "execution_count": 1,
   "id": "b5af18c6",
   "metadata": {},
   "outputs": [
    {
     "name": "stdout",
     "output_type": "stream",
     "text": [
      "0\n",
      "2\n",
      "4\n",
      "6\n",
      "8\n"
     ]
    }
   ],
   "source": [
    "class IteradoresPares:\n",
    "    def __init__(self, n):\n",
    "        self.n = n\n",
    "        self.contador = 0\n",
    "        self.valor_actual = 0 \n",
    "    \n",
    "    def __iter__(self):\n",
    "        return self\n",
    "    \n",
    "    def __next__(self):\n",
    "        if self.contador >= self.n:\n",
    "            raise StopIteration\n",
    "        par = self.valor_actual\n",
    "        self.valor_actual += 2\n",
    "        self.contador += 1\n",
    "        return par\n",
    "    \n",
    "n= 5 \n",
    "iterador = IteradoresPares(n)\n",
    "for numero in iterador:\n",
    "    print(numero)\n"
   ]
  },
  {
   "cell_type": "markdown",
   "id": "cd3af8ce",
   "metadata": {},
   "source": [
    "2.ITERACION SOBRE UN ARCHIVO \n",
    "    implementa un iterador que lea un archivo de texto linea por linea sin cargarlo completamente en memoria"
   ]
  },
  {
   "cell_type": "code",
   "execution_count": 4,
   "id": "4fde056e",
   "metadata": {},
   "outputs": [
    {
     "name": "stdout",
     "output_type": "stream",
     "text": [
      "Hola Mundo\n",
      "adios mundo\n",
      "nicolas\n",
      "mundo\n"
     ]
    }
   ],
   "source": [
    "class IteradoresArchivos:\n",
    "    def __init__(self, archivo):\n",
    "        self.archivo = archivo\n",
    "        self.f = open(archivo, 'r', encoding='utf-8')\n",
    "        self.valor_actual = 0 \n",
    "    \n",
    "    def __iter__(self):\n",
    "        return self\n",
    "    \n",
    "    def __next__(self):\n",
    "        linea = self.f.readline()\n",
    "        if not linea:\n",
    "            self.f.close()\n",
    "            raise StopIteration\n",
    "        return linea.strip()\n",
    "    \n",
    "archivo = \"ejemplotutoria.txt\"\n",
    "iterador = IteradoresArchivos(archivo)\n",
    "for linea in iterador:\n",
    "    print(linea)"
   ]
  },
  {
   "cell_type": "markdown",
   "id": "0a807388",
   "metadata": {},
   "source": [
    "3. ITERADOR DE FIBONACCI\n",
    "    diseña un iterador que genere la secuencia fibonacci hasta un numero (n) de elementos "
   ]
  },
  {
   "cell_type": "code",
   "execution_count": null,
   "id": "a9a4fcb8",
   "metadata": {},
   "outputs": [],
   "source": []
  }
 ],
 "metadata": {
  "kernelspec": {
   "display_name": "Python 3",
   "language": "python",
   "name": "python3"
  },
  "language_info": {
   "codemirror_mode": {
    "name": "ipython",
    "version": 3
   },
   "file_extension": ".py",
   "mimetype": "text/x-python",
   "name": "python",
   "nbconvert_exporter": "python",
   "pygments_lexer": "ipython3",
   "version": "3.13.0"
  }
 },
 "nbformat": 4,
 "nbformat_minor": 5
}
