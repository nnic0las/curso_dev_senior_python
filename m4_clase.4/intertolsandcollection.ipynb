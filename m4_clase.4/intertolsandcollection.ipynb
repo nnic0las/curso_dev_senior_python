{
 "cells": [
  {
   "cell_type": "markdown",
   "id": "44dfa0e9",
   "metadata": {},
   "source": [
    "#itertols\n",
    "\n",
    "##iteradores infinitos\n"
   ]
  },
  {
   "cell_type": "code",
   "execution_count": 1,
   "id": "da10f38c",
   "metadata": {},
   "outputs": [
    {
     "name": "stdout",
     "output_type": "stream",
     "text": [
      "1\n",
      "3\n",
      "5\n",
      "7\n",
      "9\n"
     ]
    }
   ],
   "source": [
    "import itertools\n",
    "\n",
    "contador = itertools.count(start= 1, step= 2)\n",
    "\n",
    "for _ in range(5):\n",
    "    print(next(contador))"
   ]
  },
  {
   "cell_type": "code",
   "execution_count": 2,
   "id": "f19985a3",
   "metadata": {},
   "outputs": [
    {
     "name": "stdout",
     "output_type": "stream",
     "text": [
      "rojo\n",
      "verde\n",
      "azul\n",
      "rojo\n",
      "verde\n",
      "azul\n"
     ]
    }
   ],
   "source": [
    "ciclo = itertools.cycle([\"rojo\", \"verde\", \"azul\"])\n",
    "\n",
    "for _ in range(6):\n",
    "    print(next(ciclo))\n"
   ]
  },
  {
   "cell_type": "code",
   "execution_count": 4,
   "id": "58bd7f56",
   "metadata": {},
   "outputs": [
    {
     "name": "stdout",
     "output_type": "stream",
     "text": [
      "[['hola', 'adios'], ['hola', 'adios'], ['hola', 'adios'], ['hola', 'adios'], ['hola', 'adios']]\n"
     ]
    }
   ],
   "source": [
    "repetir = itertools.repeat([\"hola\", \"adios\"], 5)\n",
    "\n",
    "print(list(repetir))"
   ]
  },
  {
   "cell_type": "markdown",
   "id": "34bd63af",
   "metadata": {},
   "source": [
    "#combinaciones\n",
    "      y\n",
    "permutaciones\n"
   ]
  },
  {
   "cell_type": "code",
   "execution_count": 5,
   "id": "140132c4",
   "metadata": {},
   "outputs": [
    {
     "name": "stdout",
     "output_type": "stream",
     "text": [
      "[('A', 'B'), ('A', 'C'), ('B', 'A'), ('B', 'C'), ('C', 'A'), ('C', 'B')]\n"
     ]
    }
   ],
   "source": [
    "import itertools\n",
    "\n",
    "dato = [\"A\", \"B\", \"C\"]\n",
    "\n",
    "permutacion = list(itertools.permutations(dato,2))\n",
    "\n",
    "print(permutacion) "
   ]
  },
  {
   "cell_type": "code",
   "execution_count": 6,
   "id": "44145e63",
   "metadata": {},
   "outputs": [
    {
     "name": "stdout",
     "output_type": "stream",
     "text": [
      "[('A', 'B'), ('A', 'C'), ('B', 'C')]\n"
     ]
    }
   ],
   "source": [
    "combinacion = list(itertools.combinations(dato,2))\n",
    "\n",
    "print(combinacion)"
   ]
  },
  {
   "cell_type": "code",
   "execution_count": 13,
   "id": "6326630e",
   "metadata": {},
   "outputs": [
    {
     "name": "stdout",
     "output_type": "stream",
     "text": [
      "[('A', 'A', 'A'), ('A', 'A', 'B'), ('A', 'A', 'C'), ('A', 'B', 'B'), ('A', 'B', 'C'), ('A', 'C', 'C'), ('B', 'B', 'B'), ('B', 'B', 'C'), ('B', 'C', 'C'), ('C', 'C', 'C')]\n"
     ]
    }
   ],
   "source": [
    "combinacion_con_repeticiones = list(itertools.combinations_with_replacement(dato,3))\n",
    "\n",
    "print(combinacion_con_repeticiones)"
   ]
  },
  {
   "cell_type": "markdown",
   "id": "1539df8d",
   "metadata": {},
   "source": [
    "##agrupacion y segmentacionde datos##"
   ]
  },
  {
   "cell_type": "code",
   "execution_count": 14,
   "id": "3433a12e",
   "metadata": {},
   "outputs": [
    {
     "name": "stdout",
     "output_type": "stream",
     "text": [
      "clave 1: [(1, 'a'), (1, 'b')]\n",
      "clave 2: [(2, 'c'), (2, 'd')]\n",
      "clave 3: [(3, 'e')]\n"
     ]
    }
   ],
   "source": [
    "datos = [(1, \"a\"),(1, \"b\"),(2, \"c\"),(2, \"d\"),(3, \"e\")]\n",
    "\n",
    "for clave, grupo in itertools.groupby(datos, key=lambda x:x[0]):\n",
    "\n",
    "    print(f\"clave {clave}: {list(grupo)}\")"
   ]
  },
  {
   "cell_type": "code",
   "execution_count": 15,
   "id": "87848664",
   "metadata": {},
   "outputs": [
    {
     "name": "stdout",
     "output_type": "stream",
     "text": [
      "[1, 2, 3, 4, 5]\n",
      "[1, 2, 3, 4, 5]\n"
     ]
    }
   ],
   "source": [
    "datos = iter([1,2,3,4,5])\n",
    "\n",
    "it1, it2 = itertools.tee(datos, 2)\n",
    "\n",
    "print(list(it1))\n",
    "print(list(it2))\n"
   ]
  },
  {
   "cell_type": "markdown",
   "id": "04916f73",
   "metadata": {},
   "source": [
    "##productos cartecianos y concatenacion##"
   ]
  },
  {
   "cell_type": "code",
   "execution_count": null,
   "id": "4aee535d",
   "metadata": {},
   "outputs": [
    {
     "name": "stdout",
     "output_type": "stream",
     "text": [
      "[('rojo', 's'), ('rojo', 'm'), ('verde', 's'), ('verde', 'm')]\n"
     ]
    }
   ],
   "source": [
    "colores = [\"rojo\", \"verde\"]\n",
    "tallas = [\"s\",\"m\"]\n",
    "\n",
    "print(list(itertools.product(colores, tallas)))"
   ]
  },
  {
   "cell_type": "code",
   "execution_count": 17,
   "id": "51736533",
   "metadata": {},
   "outputs": [
    {
     "name": "stdout",
     "output_type": "stream",
     "text": [
      "[1, 2, 3, 'A', 'B']\n"
     ]
    }
   ],
   "source": [
    "a = [1,2,3]\n",
    "b = [\"A\", \"B\"]\n",
    "\n",
    "print(list(itertools.chain(a,b)))"
   ]
  }
 ],
 "metadata": {
  "kernelspec": {
   "display_name": "Python 3",
   "language": "python",
   "name": "python3"
  },
  "language_info": {
   "codemirror_mode": {
    "name": "ipython",
    "version": 3
   },
   "file_extension": ".py",
   "mimetype": "text/x-python",
   "name": "python",
   "nbconvert_exporter": "python",
   "pygments_lexer": "ipython3",
   "version": "3.13.0"
  }
 },
 "nbformat": 4,
 "nbformat_minor": 5
}
